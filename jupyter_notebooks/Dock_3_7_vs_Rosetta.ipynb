{
 "cells": [
  {
   "cell_type": "code",
   "execution_count": 39,
   "id": "6962ddf1",
   "metadata": {},
   "outputs": [],
   "source": [
    "#initial import of relevant packages for graphing\n",
    "import pandas as pd\n",
    "import matplotlib.pyplot as plt\n",
    "import numpy as np\n",
    "#https://stackoverflow.com/questions/32085531/importing-a-csv-file-into-python-to-make-scatterplots-and-histograms"
   ]
  },
  {
   "cell_type": "code",
   "execution_count": 40,
   "id": "cf1ff45e",
   "metadata": {},
   "outputs": [
    {
     "data": {
      "text/html": [
       "<div>\n",
       "<style scoped>\n",
       "    .dataframe tbody tr th:only-of-type {\n",
       "        vertical-align: middle;\n",
       "    }\n",
       "\n",
       "    .dataframe tbody tr th {\n",
       "        vertical-align: top;\n",
       "    }\n",
       "\n",
       "    .dataframe thead th {\n",
       "        text-align: right;\n",
       "    }\n",
       "</style>\n",
       "<table border=\"1\" class=\"dataframe\">\n",
       "  <thead>\n",
       "    <tr style=\"text-align: right;\">\n",
       "      <th></th>\n",
       "      <th>system</th>\n",
       "      <th>rmsd</th>\n",
       "      <th>placement_pdb</th>\n",
       "    </tr>\n",
       "  </thead>\n",
       "  <tbody>\n",
       "    <tr>\n",
       "      <th>0</th>\n",
       "      <td>aa2ar</td>\n",
       "      <td>4.147040</td>\n",
       "      <td>aa2ar_ResPos_159_ResID_PHE_Trio25_+_motif_1OU4...</td>\n",
       "    </tr>\n",
       "    <tr>\n",
       "      <th>1</th>\n",
       "      <td>abl1</td>\n",
       "      <td>0.124568</td>\n",
       "      <td>abl1_ResPos_83_ResID_THR_Trio42_+_motif_6DWM_H...</td>\n",
       "    </tr>\n",
       "    <tr>\n",
       "      <th>2</th>\n",
       "      <td>ace</td>\n",
       "      <td>0.407009</td>\n",
       "      <td>ace_ResPos_293_ResID_SER_Trio17_+_motif_7Q26_8...</td>\n",
       "    </tr>\n",
       "    <tr>\n",
       "      <th>3</th>\n",
       "      <td>aces</td>\n",
       "      <td>0.133846</td>\n",
       "      <td>aces_ResPos_52_ResID_TRP_Trio65_+_motif_7AIX_8...</td>\n",
       "    </tr>\n",
       "    <tr>\n",
       "      <th>4</th>\n",
       "      <td>ada</td>\n",
       "      <td>0.272664</td>\n",
       "      <td>ada_ResPos_151_ResID_MET_Trio38_+_motif_3UZC_T...</td>\n",
       "    </tr>\n",
       "    <tr>\n",
       "      <th>...</th>\n",
       "      <td>...</td>\n",
       "      <td>...</td>\n",
       "      <td>...</td>\n",
       "    </tr>\n",
       "    <tr>\n",
       "      <th>80</th>\n",
       "      <td>thb</td>\n",
       "      <td>0.165592</td>\n",
       "      <td>thb_ResPos_115_ResID_LEU_Trio20_+_motif_4A6E_A...</td>\n",
       "    </tr>\n",
       "    <tr>\n",
       "      <th>81</th>\n",
       "      <td>thrb</td>\n",
       "      <td>0.214373</td>\n",
       "      <td>thrb_ResPos_111_ResID_LEU_Trio18_+_motif_5AFJ_...</td>\n",
       "    </tr>\n",
       "    <tr>\n",
       "      <th>82</th>\n",
       "      <td>tryb1</td>\n",
       "      <td>0.429380</td>\n",
       "      <td>tryb1_ResPos_209_ResID_GLU_Trio49_+_motif_5F6D...</td>\n",
       "    </tr>\n",
       "    <tr>\n",
       "      <th>83</th>\n",
       "      <td>urok</td>\n",
       "      <td>0.160134</td>\n",
       "      <td>urok_ResPos_208_ResID_CYS_Trio60_+_motif_2A1D_...</td>\n",
       "    </tr>\n",
       "    <tr>\n",
       "      <th>84</th>\n",
       "      <td>xiap</td>\n",
       "      <td>4.635133</td>\n",
       "      <td>xiap_ResPos_70_ResID_TYR_Trio45_+_motif_4ZJC_4...</td>\n",
       "    </tr>\n",
       "  </tbody>\n",
       "</table>\n",
       "<p>85 rows × 3 columns</p>\n",
       "</div>"
      ],
      "text/plain": [
       "   system      rmsd                                      placement_pdb\n",
       "0   aa2ar  4.147040  aa2ar_ResPos_159_ResID_PHE_Trio25_+_motif_1OU4...\n",
       "1    abl1  0.124568  abl1_ResPos_83_ResID_THR_Trio42_+_motif_6DWM_H...\n",
       "2     ace  0.407009  ace_ResPos_293_ResID_SER_Trio17_+_motif_7Q26_8...\n",
       "3    aces  0.133846  aces_ResPos_52_ResID_TRP_Trio65_+_motif_7AIX_8...\n",
       "4     ada  0.272664  ada_ResPos_151_ResID_MET_Trio38_+_motif_3UZC_T...\n",
       "..    ...       ...                                                ...\n",
       "80    thb  0.165592  thb_ResPos_115_ResID_LEU_Trio20_+_motif_4A6E_A...\n",
       "81   thrb  0.214373  thrb_ResPos_111_ResID_LEU_Trio18_+_motif_5AFJ_...\n",
       "82  tryb1  0.429380  tryb1_ResPos_209_ResID_GLU_Trio49_+_motif_5F6D...\n",
       "83   urok  0.160134  urok_ResPos_208_ResID_CYS_Trio60_+_motif_2A1D_...\n",
       "84   xiap  4.635133  xiap_ResPos_70_ResID_TYR_Trio45_+_motif_4ZJC_4...\n",
       "\n",
       "[85 rows x 3 columns]"
      ]
     },
     "execution_count": 40,
     "metadata": {},
     "output_type": "execute_result"
    }
   ],
   "source": [
    "#initial read and print of motifs_dataframe\n",
    "motifs_df = pd.read_csv(\"../rosetta_motifs/motifs_rmsds.csv\")\n",
    "motifs_df"
   ]
  },
  {
   "cell_type": "code",
   "execution_count": 41,
   "id": "f2f0a886",
   "metadata": {},
   "outputs": [
    {
     "data": {
      "text/html": [
       "<div>\n",
       "<style scoped>\n",
       "    .dataframe tbody tr th:only-of-type {\n",
       "        vertical-align: middle;\n",
       "    }\n",
       "\n",
       "    .dataframe tbody tr th {\n",
       "        vertical-align: top;\n",
       "    }\n",
       "\n",
       "    .dataframe thead th {\n",
       "        text-align: right;\n",
       "    }\n",
       "</style>\n",
       "<table border=\"1\" class=\"dataframe\">\n",
       "  <thead>\n",
       "    <tr style=\"text-align: right;\">\n",
       "      <th></th>\n",
       "      <th>def</th>\n",
       "      <th>1.0914958389592462</th>\n",
       "    </tr>\n",
       "  </thead>\n",
       "  <tbody>\n",
       "    <tr>\n",
       "      <th>0</th>\n",
       "      <td>nram</td>\n",
       "      <td>5.959094</td>\n",
       "    </tr>\n",
       "    <tr>\n",
       "      <th>1</th>\n",
       "      <td>fa10</td>\n",
       "      <td>0.180092</td>\n",
       "    </tr>\n",
       "    <tr>\n",
       "      <th>2</th>\n",
       "      <td>fak1</td>\n",
       "      <td>0.278123</td>\n",
       "    </tr>\n",
       "    <tr>\n",
       "      <th>3</th>\n",
       "      <td>aofb</td>\n",
       "      <td>0.417968</td>\n",
       "    </tr>\n",
       "    <tr>\n",
       "      <th>4</th>\n",
       "      <td>reni</td>\n",
       "      <td>0.196602</td>\n",
       "    </tr>\n",
       "    <tr>\n",
       "      <th>...</th>\n",
       "      <td>...</td>\n",
       "      <td>...</td>\n",
       "    </tr>\n",
       "    <tr>\n",
       "      <th>96</th>\n",
       "      <td>aldr</td>\n",
       "      <td>0.527157</td>\n",
       "    </tr>\n",
       "    <tr>\n",
       "      <th>97</th>\n",
       "      <td>inha</td>\n",
       "      <td>1.124074</td>\n",
       "    </tr>\n",
       "    <tr>\n",
       "      <th>98</th>\n",
       "      <td>pur2</td>\n",
       "      <td>0.610745</td>\n",
       "    </tr>\n",
       "    <tr>\n",
       "      <th>99</th>\n",
       "      <td>pgh2</td>\n",
       "      <td>0.233567</td>\n",
       "    </tr>\n",
       "    <tr>\n",
       "      <th>100</th>\n",
       "      <td>src</td>\n",
       "      <td>0.489107</td>\n",
       "    </tr>\n",
       "  </tbody>\n",
       "</table>\n",
       "<p>101 rows × 2 columns</p>\n",
       "</div>"
      ],
      "text/plain": [
       "      def  1.0914958389592462\n",
       "0    nram            5.959094\n",
       "1    fa10            0.180092\n",
       "2    fak1            0.278123\n",
       "3    aofb            0.417968\n",
       "4    reni            0.196602\n",
       "..    ...                 ...\n",
       "96   aldr            0.527157\n",
       "97   inha            1.124074\n",
       "98   pur2            0.610745\n",
       "99   pgh2            0.233567\n",
       "100   src            0.489107\n",
       "\n",
       "[101 rows x 2 columns]"
      ]
     },
     "execution_count": 41,
     "metadata": {},
     "output_type": "execute_result"
    }
   ],
   "source": [
    "#initial read and print of Schrodinger Glide dataframe\n",
    "dock_df = pd.read_csv(\"../dock6/output_files/dock6_best_rmsds.csv\")\n",
    "dock_df"
   ]
  },
  {
   "cell_type": "code",
   "execution_count": 33,
   "id": "0f75331a",
   "metadata": {},
   "outputs": [
    {
     "ename": "KeyError",
     "evalue": "'rmsd'",
     "output_type": "error",
     "traceback": [
      "\u001b[0;31m---------------------------------------------------------------------------\u001b[0m",
      "\u001b[0;31mKeyError\u001b[0m                                  Traceback (most recent call last)",
      "File \u001b[0;32m/share/apps/rc/software/Anaconda3/2023.07-2/lib/python3.11/site-packages/pandas/core/indexes/base.py:3802\u001b[0m, in \u001b[0;36mIndex.get_loc\u001b[0;34m(self, key, method, tolerance)\u001b[0m\n\u001b[1;32m   3801\u001b[0m \u001b[38;5;28;01mtry\u001b[39;00m:\n\u001b[0;32m-> 3802\u001b[0m     \u001b[38;5;28;01mreturn\u001b[39;00m \u001b[38;5;28mself\u001b[39m\u001b[38;5;241m.\u001b[39m_engine\u001b[38;5;241m.\u001b[39mget_loc(casted_key)\n\u001b[1;32m   3803\u001b[0m \u001b[38;5;28;01mexcept\u001b[39;00m \u001b[38;5;167;01mKeyError\u001b[39;00m \u001b[38;5;28;01mas\u001b[39;00m err:\n",
      "File \u001b[0;32m/share/apps/rc/software/Anaconda3/2023.07-2/lib/python3.11/site-packages/pandas/_libs/index.pyx:138\u001b[0m, in \u001b[0;36mpandas._libs.index.IndexEngine.get_loc\u001b[0;34m()\u001b[0m\n",
      "File \u001b[0;32m/share/apps/rc/software/Anaconda3/2023.07-2/lib/python3.11/site-packages/pandas/_libs/index.pyx:165\u001b[0m, in \u001b[0;36mpandas._libs.index.IndexEngine.get_loc\u001b[0;34m()\u001b[0m\n",
      "File \u001b[0;32mpandas/_libs/hashtable_class_helper.pxi:5745\u001b[0m, in \u001b[0;36mpandas._libs.hashtable.PyObjectHashTable.get_item\u001b[0;34m()\u001b[0m\n",
      "File \u001b[0;32mpandas/_libs/hashtable_class_helper.pxi:5753\u001b[0m, in \u001b[0;36mpandas._libs.hashtable.PyObjectHashTable.get_item\u001b[0;34m()\u001b[0m\n",
      "\u001b[0;31mKeyError\u001b[0m: 'rmsd'",
      "\nThe above exception was the direct cause of the following exception:\n",
      "\u001b[0;31mKeyError\u001b[0m                                  Traceback (most recent call last)",
      "Cell \u001b[0;32mIn[33], line 2\u001b[0m\n\u001b[1;32m      1\u001b[0m \u001b[38;5;66;03m#remove any nan\u001b[39;00m\n\u001b[0;32m----> 2\u001b[0m dock_df \u001b[38;5;241m=\u001b[39m dock_df[dock_df[\u001b[38;5;124m'\u001b[39m\u001b[38;5;124mrmsd\u001b[39m\u001b[38;5;124m'\u001b[39m]\u001b[38;5;241m.\u001b[39misna() \u001b[38;5;241m==\u001b[39m \u001b[38;5;28;01mFalse\u001b[39;00m]\n\u001b[1;32m      3\u001b[0m dock_df\n",
      "File \u001b[0;32m/share/apps/rc/software/Anaconda3/2023.07-2/lib/python3.11/site-packages/pandas/core/frame.py:3807\u001b[0m, in \u001b[0;36mDataFrame.__getitem__\u001b[0;34m(self, key)\u001b[0m\n\u001b[1;32m   3805\u001b[0m \u001b[38;5;28;01mif\u001b[39;00m \u001b[38;5;28mself\u001b[39m\u001b[38;5;241m.\u001b[39mcolumns\u001b[38;5;241m.\u001b[39mnlevels \u001b[38;5;241m>\u001b[39m \u001b[38;5;241m1\u001b[39m:\n\u001b[1;32m   3806\u001b[0m     \u001b[38;5;28;01mreturn\u001b[39;00m \u001b[38;5;28mself\u001b[39m\u001b[38;5;241m.\u001b[39m_getitem_multilevel(key)\n\u001b[0;32m-> 3807\u001b[0m indexer \u001b[38;5;241m=\u001b[39m \u001b[38;5;28mself\u001b[39m\u001b[38;5;241m.\u001b[39mcolumns\u001b[38;5;241m.\u001b[39mget_loc(key)\n\u001b[1;32m   3808\u001b[0m \u001b[38;5;28;01mif\u001b[39;00m is_integer(indexer):\n\u001b[1;32m   3809\u001b[0m     indexer \u001b[38;5;241m=\u001b[39m [indexer]\n",
      "File \u001b[0;32m/share/apps/rc/software/Anaconda3/2023.07-2/lib/python3.11/site-packages/pandas/core/indexes/base.py:3804\u001b[0m, in \u001b[0;36mIndex.get_loc\u001b[0;34m(self, key, method, tolerance)\u001b[0m\n\u001b[1;32m   3802\u001b[0m     \u001b[38;5;28;01mreturn\u001b[39;00m \u001b[38;5;28mself\u001b[39m\u001b[38;5;241m.\u001b[39m_engine\u001b[38;5;241m.\u001b[39mget_loc(casted_key)\n\u001b[1;32m   3803\u001b[0m \u001b[38;5;28;01mexcept\u001b[39;00m \u001b[38;5;167;01mKeyError\u001b[39;00m \u001b[38;5;28;01mas\u001b[39;00m err:\n\u001b[0;32m-> 3804\u001b[0m     \u001b[38;5;28;01mraise\u001b[39;00m \u001b[38;5;167;01mKeyError\u001b[39;00m(key) \u001b[38;5;28;01mfrom\u001b[39;00m \u001b[38;5;21;01merr\u001b[39;00m\n\u001b[1;32m   3805\u001b[0m \u001b[38;5;28;01mexcept\u001b[39;00m \u001b[38;5;167;01mTypeError\u001b[39;00m:\n\u001b[1;32m   3806\u001b[0m     \u001b[38;5;66;03m# If we have a listlike key, _check_indexing_error will raise\u001b[39;00m\n\u001b[1;32m   3807\u001b[0m     \u001b[38;5;66;03m#  InvalidIndexError. Otherwise we fall through and re-raise\u001b[39;00m\n\u001b[1;32m   3808\u001b[0m     \u001b[38;5;66;03m#  the TypeError.\u001b[39;00m\n\u001b[1;32m   3809\u001b[0m     \u001b[38;5;28mself\u001b[39m\u001b[38;5;241m.\u001b[39m_check_indexing_error(key)\n",
      "\u001b[0;31mKeyError\u001b[0m: 'rmsd'"
     ]
    }
   ],
   "source": [
    "#remove any nan\n",
    "dock_df = dock_df[dock_df['rmsd'].isna() == False]\n",
    "dock_df"
   ]
  },
  {
   "cell_type": "code",
   "execution_count": null,
   "id": "0efdea8c",
   "metadata": {},
   "outputs": [],
   "source": [
    "#Inner join of motifs and dock dataframes for plotting purposes; followed with test print\n",
    "merged_df = pd.merge(motifs_df, dock_df, on='system', how='inner')\n",
    "merged_df"
   ]
  },
  {
   "cell_type": "code",
   "execution_count": null,
   "id": "30c8ea62",
   "metadata": {},
   "outputs": [],
   "source": [
    "#drop non-needed columns from merged dataframe\n",
    "merged_df = merged_df.drop(columns=['placement_pdb'])\n",
    "#rename columns for rmsd from motifs and autodock\n",
    "merged_df.columns = ['system', 'rmsd_motifs', 'rmsd_dock']\n",
    "#test_print\n",
    "merged_df"
   ]
  },
  {
   "cell_type": "code",
   "execution_count": null,
   "id": "bcbb3c88",
   "metadata": {},
   "outputs": [],
   "source": [
    "type(merged_df['rmsd_dock'][0])\n",
    "type(merged_df['rmsd_motifs'][0])\n",
    "print(merged_df['rmsd_dock'])"
   ]
  },
  {
   "cell_type": "code",
   "execution_count": null,
   "id": "60e7d8e2",
   "metadata": {},
   "outputs": [],
   "source": [
    "#Create heatmap of rmsds per system (n=85) between AutoDock and Rosetta Motifs\n",
    "\n",
    "#copy out rmsd columns of motifs and autodock\n",
    "x = merged_df['rmsd_motifs']\n",
    "y = merged_df['rmsd_dock']\n",
    "\n",
    "#create a 2d histogram of the rmsd columns with 30 bins in each dimension\n",
    "heatmap, xedges, yedges = np.histogram2d(x, y, bins=(30, 30))\n",
    "extent = [xedges[0], xedges[-1], yedges[0], yedges[-1]]\n",
    "\n",
    "#set plot labels\n",
    "plt.xlabel('rmsd_motifs')\n",
    "plt.ylabel('rmsd_dock')\n",
    "\n",
    "#create 2d heatmap using viridis color scale\n",
    "plt.imshow(heatmap.T, extent=extent, origin='lower', cmap='viridis', aspect='auto')\n",
    "\n",
    "#add color bar\n",
    "plt.colorbar()\n",
    "\n",
    "#add grid\n",
    "plt.grid(True)\n",
    "\n",
    "#show plot\n",
    "plt.show()"
   ]
  },
  {
   "cell_type": "code",
   "execution_count": 34,
   "id": "e380bede",
   "metadata": {},
   "outputs": [
    {
     "data": {
      "image/png": "[encoded data removed]",
      "text/plain": [
       "<Figure size 640x480 with 2 Axes>"
      ]
     },
     "metadata": {},
     "output_type": "display_data"
    }
   ],
   "source": [
    "#Create heatmap of rmsds per system (n=85) between AutoDock and Rosetta Motifs\n",
    "#Expanding x and y max to 10\n",
    "#Using Blues color scale to allow for zeros to be white\n",
    "\n",
    "x = merged_df['rmsd_motifs']\n",
    "y = merged_df['rmsd_dock']\n",
    "\n",
    "heatmap, xedges, yedges = np.histogram2d(x, y, bins=(30, 30))\n",
    "extent = [xedges[0], xedges[-1], yedges[0], yedges[-1]]\n",
    "\n",
    "plt.xlabel('rmsd_motifs')\n",
    "plt.ylabel('rmsd_dock')\n",
    "\n",
    "plt.imshow(heatmap.T, extent=extent, origin='lower', cmap='Blues', aspect='auto')\n",
    "\n",
    "plt.colorbar()\n",
    "\n",
    "plt.grid(True)\n",
    "plt.xlim(0,15)\n",
    "plt.ylim(0,15)\n",
    "plt.show()"
   ]
  },
  {
   "cell_type": "code",
   "execution_count": 35,
   "id": "50626cf3",
   "metadata": {},
   "outputs": [
    {
     "data": {
      "image/png": "[encoded data removed]",
      "text/plain": [
       "<Figure size 640x480 with 2 Axes>"
      ]
     },
     "metadata": {},
     "output_type": "display_data"
    }
   ],
   "source": [
    "#Create heatmap of rmsds per system (n=85) between AutoDock and Rosetta Motifs\n",
    "#Expanding x and y max to 10\n",
    "#Using Blues color scale to allow for zeros to be white\n",
    "\n",
    "x = merged_df['rmsd_motifs']\n",
    "y = merged_df['rmsd_dock']\n",
    "\n",
    "heatmap, xedges, yedges = np.histogram2d(x, y, bins=(30, 30))\n",
    "extent = [xedges[0], xedges[-1], yedges[0], yedges[-1]]\n",
    "\n",
    "plt.xlabel('rmsd_motifs')\n",
    "plt.ylabel('rmsd_dock')\n",
    "\n",
    "plt.imshow(heatmap.T, extent=extent, origin='lower', cmap='Blues', aspect='auto')\n",
    "\n",
    "plt.colorbar()\n",
    "\n",
    "plt.grid(True)\n",
    "plt.xlim(0,15)\n",
    "plt.ylim(0,15)\n",
    "plt.show()"
   ]
  },
  {
   "cell_type": "code",
   "execution_count": 36,
   "id": "45f1720c",
   "metadata": {},
   "outputs": [
    {
     "data": {
      "image/png": "[encoded data removed]",
      "text/plain": [
       "<Figure size 640x480 with 1 Axes>"
      ]
     },
     "metadata": {},
     "output_type": "display_data"
    }
   ],
   "source": [
    "#create heatmap of Motifs closest recovery RMSDs\n",
    "\n",
    "#extract motifs rmsds\n",
    "x = merged_df['rmsd_motifs']\n",
    "#set labels and title\n",
    "plt.xlabel('Motifs rmsd (A)')\n",
    "plt.ylabel('Frequency')\n",
    "plt.title('Closest Recovery RMSD: Motifs')\n",
    "#create 30 bin 1D hsitogram\n",
    "plt.hist(x, bins=30, color='blue')\n",
    "#set grid\n",
    "plt.grid(True)\n",
    "#show plot\n",
    "plt.show()"
   ]
  },
  {
   "cell_type": "code",
   "execution_count": 37,
   "id": "e0a5c66a",
   "metadata": {},
   "outputs": [
    {
     "data": {
      "image/png": "[encoded data removed]",
      "text/plain": [
       "<Figure size 640x480 with 1 Axes>"
      ]
     },
     "metadata": {},
     "output_type": "display_data"
    }
   ],
   "source": [
    "#create heatmap of Schrodinger closest recovery RMSDs\n",
    "\n",
    "x = merged_df['rmsd_dock']\n",
    "plt.xlabel('Dock 3.7 rmsd (A)')\n",
    "plt.ylabel('Frequency')\n",
    "plt.title('Closest Recovery RMSD: Dock 3.7')\n",
    "plt.hist(x, bins=30, color='blue')\n",
    "plt.grid(True)\n",
    "plt.show()"
   ]
  },
  {
   "cell_type": "code",
   "execution_count": 38,
   "id": "8e4a53d3",
   "metadata": {},
   "outputs": [
    {
     "data": {
      "image/png": "[encoded data removed]",
      "text/plain": [
       "<Figure size 640x480 with 1 Axes>"
      ]
     },
     "metadata": {},
     "output_type": "display_data"
    }
   ],
   "source": [
    "#make a scatterplot in the place of the heatmap\n",
    "merged_df.plot(kind='scatter',x='rmsd_motifs',y='rmsd_dock')\n",
    "#plt.xlim(0,15)\n",
    "#plt.ylim(0,15)\n",
    "plt.show()"
   ]
  },
  {
   "cell_type": "code",
   "execution_count": 29,
   "id": "12121cae",
   "metadata": {},
   "outputs": [
    {
     "data": {
      "text/html": [
       "<div>\n",
       "<style scoped>\n",
       "    .dataframe tbody tr th:only-of-type {\n",
       "        vertical-align: middle;\n",
       "    }\n",
       "\n",
       "    .dataframe tbody tr th {\n",
       "        vertical-align: top;\n",
       "    }\n",
       "\n",
       "    .dataframe thead th {\n",
       "        text-align: right;\n",
       "    }\n",
       "</style>\n",
       "<table border=\"1\" class=\"dataframe\">\n",
       "  <thead>\n",
       "    <tr style=\"text-align: right;\">\n",
       "      <th></th>\n",
       "      <th>system</th>\n",
       "      <th>rmsd</th>\n",
       "    </tr>\n",
       "  </thead>\n",
       "  <tbody>\n",
       "    <tr>\n",
       "      <th>8</th>\n",
       "      <td>akt1</td>\n",
       "      <td>35.535808</td>\n",
       "    </tr>\n",
       "    <tr>\n",
       "      <th>11</th>\n",
       "      <td>ampc</td>\n",
       "      <td>29.898197</td>\n",
       "    </tr>\n",
       "    <tr>\n",
       "      <th>15</th>\n",
       "      <td>braf</td>\n",
       "      <td>59.709253</td>\n",
       "    </tr>\n",
       "    <tr>\n",
       "      <th>17</th>\n",
       "      <td>casp3</td>\n",
       "      <td>81.442283</td>\n",
       "    </tr>\n",
       "    <tr>\n",
       "      <th>18</th>\n",
       "      <td>cdk2</td>\n",
       "      <td>59.674002</td>\n",
       "    </tr>\n",
       "    <tr>\n",
       "      <th>19</th>\n",
       "      <td>comt</td>\n",
       "      <td>21.860533</td>\n",
       "    </tr>\n",
       "    <tr>\n",
       "      <th>22</th>\n",
       "      <td>csf1r</td>\n",
       "      <td>78.817143</td>\n",
       "    </tr>\n",
       "    <tr>\n",
       "      <th>39</th>\n",
       "      <td>fpps</td>\n",
       "      <td>26.365473</td>\n",
       "    </tr>\n",
       "    <tr>\n",
       "      <th>40</th>\n",
       "      <td>gcr</td>\n",
       "      <td>117.254320</td>\n",
       "    </tr>\n",
       "    <tr>\n",
       "      <th>42</th>\n",
       "      <td>gria2</td>\n",
       "      <td>65.421162</td>\n",
       "    </tr>\n",
       "    <tr>\n",
       "      <th>43</th>\n",
       "      <td>grik1</td>\n",
       "      <td>26.724658</td>\n",
       "    </tr>\n",
       "    <tr>\n",
       "      <th>46</th>\n",
       "      <td>hivint</td>\n",
       "      <td>52.905537</td>\n",
       "    </tr>\n",
       "    <tr>\n",
       "      <th>49</th>\n",
       "      <td>hmdh</td>\n",
       "      <td>99.864140</td>\n",
       "    </tr>\n",
       "    <tr>\n",
       "      <th>56</th>\n",
       "      <td>kif11</td>\n",
       "      <td>38.327184</td>\n",
       "    </tr>\n",
       "    <tr>\n",
       "      <th>70</th>\n",
       "      <td>nos1</td>\n",
       "      <td>56.804081</td>\n",
       "    </tr>\n",
       "    <tr>\n",
       "      <th>71</th>\n",
       "      <td>nram</td>\n",
       "      <td>37.529131</td>\n",
       "    </tr>\n",
       "    <tr>\n",
       "      <th>83</th>\n",
       "      <td>ptn1</td>\n",
       "      <td>39.139704</td>\n",
       "    </tr>\n",
       "    <tr>\n",
       "      <th>86</th>\n",
       "      <td>pyrd</td>\n",
       "      <td>115.018937</td>\n",
       "    </tr>\n",
       "  </tbody>\n",
       "</table>\n",
       "</div>"
      ],
      "text/plain": [
       "    system        rmsd\n",
       "8     akt1   35.535808\n",
       "11    ampc   29.898197\n",
       "15    braf   59.709253\n",
       "17   casp3   81.442283\n",
       "18    cdk2   59.674002\n",
       "19    comt   21.860533\n",
       "22   csf1r   78.817143\n",
       "39    fpps   26.365473\n",
       "40     gcr  117.254320\n",
       "42   gria2   65.421162\n",
       "43   grik1   26.724658\n",
       "46  hivint   52.905537\n",
       "49    hmdh   99.864140\n",
       "56   kif11   38.327184\n",
       "70    nos1   56.804081\n",
       "71    nram   37.529131\n",
       "83    ptn1   39.139704\n",
       "86    pyrd  115.018937"
      ]
     },
     "execution_count": 29,
     "metadata": {},
     "output_type": "execute_result"
    }
   ],
   "source": [
    "#get a list of the dock placements that are really far away from native (>20 angstrom rmsd)\n",
    "#remove any nan\n",
    "dock_df_awful_rmsd = dock_df[dock_df['rmsd'] > 20]\n",
    "dock_df_awful_rmsd"
   ]
  },
  {
   "cell_type": "code",
   "execution_count": null,
   "id": "066f8515",
   "metadata": {},
   "outputs": [],
   "source": []
  }
 ],
 "metadata": {
  "anaconda-cloud": {},
  "kernelspec": {
   "display_name": "Python 3 (ipykernel)",
   "language": "python",
   "name": "python3"
  },
  "language_info": {
   "codemirror_mode": {
    "name": "ipython",
    "version": 3
   },
   "file_extension": ".py",
   "mimetype": "text/x-python",
   "name": "python",
   "nbconvert_exporter": "python",
   "pygments_lexer": "ipython3",
   "version": "3.11.4"
  }
 },
 "nbformat": 4,
 "nbformat_minor": 5
}
